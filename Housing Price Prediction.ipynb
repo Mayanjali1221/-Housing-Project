{
 "cells": [
  {
   "cell_type": "code",
   "execution_count": null,
   "id": "96ae62f4",
   "metadata": {},
   "outputs": [],
   "source": [
    "#Importing the necessary libraries\n",
    "import numpy as np\n",
    "import pandas as pd\n",
    "import matplotlib.pyplot as plt\n",
    "import seaborn as sns\n",
    "from sklearn import linear_model\n",
    "from sklearn.linear_model import LinearRegression\n",
    "from sklearn.linear_model import Ridge\n",
    "from sklearn.linear_model import Lasso\n",
    "from sklearn.model_selection import GridSearchCV\n",
    "import sklearn.metrics as metrics\n",
    "import os\n",
    "\n",
    "# hide warnings\n",
    "import warnings\n",
    "warnings.filterwarnings('ignore')\n",
    "\n",
    "#Setting the columns that can be displayed to max as 500 and rows to 300\n",
    "pd.set_option('display.max_columns', 500)\n",
    "pd.options.display.max_rows = 300"
   ]
  },
  {
   "cell_type": "code",
   "execution_count": null,
   "id": "041755a5",
   "metadata": {},
   "outputs": [],
   "source": [
    "# reading the dataset\n",
    "housing_orig = pd.read_csv(\"train.csv\")"
   ]
  },
  {
   "cell_type": "code",
   "execution_count": null,
   "id": "ede2f5df",
   "metadata": {},
   "outputs": [],
   "source": [
    "#Creating a copy of the data set to to work on\n",
    "housing = housing_orig.copy(deep= True)"
   ]
  },
  {
   "cell_type": "code",
   "execution_count": null,
   "id": "05e86059",
   "metadata": {},
   "outputs": [],
   "source": [
    "#to have the look at the data\n",
    "housing.head()"
   ]
  },
  {
   "cell_type": "code",
   "execution_count": null,
   "id": "823fb4ca",
   "metadata": {},
   "outputs": [],
   "source": [
    "#Statistical description of the dataset\n",
    "housing.describe()"
   ]
  },
  {
   "cell_type": "code",
   "execution_count": null,
   "id": "0157e7a4",
   "metadata": {},
   "outputs": [],
   "source": [
    "#To understand the columns, shape and data types of various columns\n",
    "housing.info()"
   ]
  },
  {
   "cell_type": "code",
   "execution_count": null,
   "id": "cc1cf5f8",
   "metadata": {},
   "outputs": [],
   "source": [
    "#To understand the shape \n",
    "housing.shape"
   ]
  },
  {
   "cell_type": "code",
   "execution_count": null,
   "id": "6ce37805",
   "metadata": {},
   "outputs": [],
   "source": [
    "#to find the total no of rows that are null for each column in the dataset\n",
    "housing.isnull().sum().sort_values(ascending=False)"
   ]
  },
  {
   "cell_type": "code",
   "execution_count": null,
   "id": "63a43952",
   "metadata": {},
   "outputs": [],
   "source": [
    "# Checking the percentage of null values in the dataframe 'housing' column-wise\n",
    "round(100*(housing.isnull().sum()/len(housing.index)), 2).sort_values(ascending=False)"
   ]
  },
  {
   "cell_type": "code",
   "execution_count": null,
   "id": "9bbb48e2",
   "metadata": {},
   "outputs": [],
   "source": [
    "#Checking the unique values for the columns\n",
    "housing['PoolQC'].value_counts()"
   ]
  },
  {
   "cell_type": "code",
   "execution_count": null,
   "id": "6cc57dec",
   "metadata": {},
   "outputs": [],
   "source": [
    "#Checking the unique values for the columns\n",
    "housing['MiscFeature'].value_counts()"
   ]
  },
  {
   "cell_type": "code",
   "execution_count": null,
   "id": "65d16709",
   "metadata": {},
   "outputs": [],
   "source": [
    "#Checking the unique values for the columns\n",
    "housing['Alley'].value_counts()"
   ]
  },
  {
   "cell_type": "code",
   "execution_count": null,
   "id": "9ec0d43e",
   "metadata": {},
   "outputs": [],
   "source": [
    "housing.drop(['PoolQC', 'MiscFeature', 'Alley', 'Fence'], axis =1, inplace = True)"
   ]
  },
  {
   "cell_type": "code",
   "execution_count": null,
   "id": "f097f91f",
   "metadata": {},
   "outputs": [],
   "source": [
    "# Checking the percentage of null values in the dataframe 'housing' column-wise\n",
    "round(100*(housing.isnull().sum()/len(housing.index)), 2).sort_values(ascending=False)"
   ]
  },
  {
   "cell_type": "code",
   "execution_count": null,
   "id": "667ed0d1",
   "metadata": {},
   "outputs": [],
   "source": [
    "#Checking the values and their distributions of the 'FireplaceQu'\n",
    "housing['FireplaceQu'].value_counts()"
   ]
  },
  {
   "cell_type": "code",
   "execution_count": null,
   "id": "40bcfed2",
   "metadata": {},
   "outputs": [],
   "source": [
    "housing['FireplaceQu'] = housing['FireplaceQu'].replace(np.nan, 'NA')"
   ]
  },
  {
   "cell_type": "code",
   "execution_count": null,
   "id": "52c5d0f4",
   "metadata": {},
   "outputs": [],
   "source": [
    "#Checking the values and their distributions of the 'FireplaceQu'\n",
    "housing['FireplaceQu'].value_counts()"
   ]
  },
  {
   "cell_type": "code",
   "execution_count": null,
   "id": "cb8e08cf",
   "metadata": {},
   "outputs": [],
   "source": [
    "housing['LotFrontage'].describe()"
   ]
  },
  {
   "cell_type": "code",
   "execution_count": null,
   "id": "2b1cce6b",
   "metadata": {},
   "outputs": [],
   "source": [
    "#To understand if thre are any outliers in the column\n",
    "sns.boxplot('LotFrontage', data = housing)"
   ]
  },
  {
   "cell_type": "code",
   "execution_count": null,
   "id": "17e3164d",
   "metadata": {},
   "outputs": [],
   "source": [
    "housing['LotFrontage'] = housing['LotFrontage'].fillna(housing['LotFrontage'].median())"
   ]
  },
  {
   "cell_type": "code",
   "execution_count": null,
   "id": "597acac9",
   "metadata": {},
   "outputs": [],
   "source": [
    "housing['GarageYrBlt'].value_counts()"
   ]
  },
  {
   "cell_type": "code",
   "execution_count": null,
   "id": "99bb48d8",
   "metadata": {},
   "outputs": [],
   "source": [
    "import datetime as d\n",
    "current_year = int(d.datetime.now().year)"
   ]
  },
  {
   "cell_type": "code",
   "execution_count": null,
   "id": "53637479",
   "metadata": {},
   "outputs": [],
   "source": [
    "#Caluculating the age of the garage based on the year it was built\n",
    "housing['GarageYrBlt'] = current_year-housing['GarageYrBlt']"
   ]
  },
  {
   "cell_type": "code",
   "execution_count": null,
   "id": "c6f919c9",
   "metadata": {},
   "outputs": [],
   "source": [
    " #To understand if thre are any outliers in the column\n",
    "sns.boxplot('GarageYrBlt', data = housing)"
   ]
  },
  {
   "cell_type": "code",
   "execution_count": null,
   "id": "6a83b2f2",
   "metadata": {},
   "outputs": [],
   "source": [
    "#There are no outliers so we can impute the data with the mean of the age of which garage was built\n",
    "housing['GarageYrBlt'] = housing['GarageYrBlt'].fillna(housing['GarageYrBlt'].mean())"
   ]
  },
  {
   "cell_type": "code",
   "execution_count": null,
   "id": "f25570d3",
   "metadata": {},
   "outputs": [],
   "source": [
    "#Caluculating the number of years the house was sold from the current year\n",
    "housing['YrSold'] = current_year-housing['YrSold']"
   ]
  },
  {
   "cell_type": "code",
   "execution_count": null,
   "id": "788f9ea1",
   "metadata": {},
   "outputs": [],
   "source": [
    "#Caluculating the number of years the house was built from the current year\n",
    "housing['YearBuilt'] = current_year-housing['YearBuilt']"
   ]
  },
  {
   "cell_type": "code",
   "execution_count": null,
   "id": "3b5d8667",
   "metadata": {},
   "outputs": [],
   "source": [
    "#Caluculating the number of years the house was built from the current year\n",
    "housing['YearRemodAdd'] = current_year-housing['YearRemodAdd']"
   ]
  },
  {
   "cell_type": "code",
   "execution_count": null,
   "id": "7d61f63d",
   "metadata": {},
   "outputs": [],
   "source": [
    "housing['GarageType'].value_counts()"
   ]
  },
  {
   "cell_type": "code",
   "execution_count": null,
   "id": "fcab23e5",
   "metadata": {},
   "outputs": [],
   "source": [
    "#Replacing NaN values to NA which indicates that the property doesnt have a garage.\n",
    "housing['GarageType'] = housing['GarageType'].replace(np.nan, 'NA')"
   ]
  },
  {
   "cell_type": "code",
   "execution_count": null,
   "id": "c445cbb3",
   "metadata": {},
   "outputs": [],
   "source": [
    "housing['GarageFinish'].value_counts()"
   ]
  },
  {
   "cell_type": "code",
   "execution_count": null,
   "id": "3de45a50",
   "metadata": {},
   "outputs": [],
   "source": [
    "#Replacing NaN values to NA which indicates that the property doesnt have a garage.\n",
    "housing['GarageFinish'] = housing['GarageFinish'].replace(np.nan, 'NA')"
   ]
  },
  {
   "cell_type": "code",
   "execution_count": null,
   "id": "07102eef",
   "metadata": {},
   "outputs": [],
   "source": [
    "housing['GarageQual'].value_counts()"
   ]
  },
  {
   "cell_type": "code",
   "execution_count": null,
   "id": "530cb983",
   "metadata": {},
   "outputs": [],
   "source": [
    "#Replacing NaN values to NA which indicates that the property doesnt have a garage.\n",
    "housing['GarageQual'] = housing['GarageQual'].replace(np.nan, 'NA')"
   ]
  },
  {
   "cell_type": "code",
   "execution_count": null,
   "id": "c607ce9d",
   "metadata": {},
   "outputs": [],
   "source": [
    "#Replacing NaN values to NA which indicates that the property doesnt have a garage.\n",
    "housing['GarageCond'] = housing['GarageCond'].replace(np.nan, 'NA')"
   ]
  },
  {
   "cell_type": "code",
   "execution_count": null,
   "id": "47300301",
   "metadata": {},
   "outputs": [],
   "source": [
    "housing['BsmtExposure'].value_counts()"
   ]
  },
  {
   "cell_type": "code",
   "execution_count": null,
   "id": "1fc613c8",
   "metadata": {},
   "outputs": [],
   "source": [
    "#Replacing NaN values to NA which indicates that the property doesnt have a garage. It is also the mode for the data\n",
    "housing['BsmtExposure'] = housing['BsmtExposure'].replace(np.nan, 'NA')"
   ]
  },
  {
   "cell_type": "code",
   "execution_count": null,
   "id": "3e2e31f0",
   "metadata": {},
   "outputs": [],
   "source": [
    "housing['BsmtFinType2'].value_counts()"
   ]
  },
  {
   "cell_type": "code",
   "execution_count": null,
   "id": "882b9952",
   "metadata": {},
   "outputs": [],
   "source": [
    "#Replacing NaN values to NA which indicates that the property doesnt have a garage.\n",
    "housing['BsmtFinType2'] = housing['BsmtFinType2'].replace(np.nan, 'NA')"
   ]
  },
  {
   "cell_type": "code",
   "execution_count": null,
   "id": "eca001ac",
   "metadata": {},
   "outputs": [],
   "source": [
    "housing['BsmtFinType1'].value_counts()"
   ]
  },
  {
   "cell_type": "code",
   "execution_count": null,
   "id": "9cbab7a7",
   "metadata": {},
   "outputs": [],
   "source": [
    "#Replacing NaN values to NA which indicates that the property doesnt have a garage.\n",
    "housing['BsmtFinType1'] = housing['BsmtFinType1'].replace(np.nan, 'NA')"
   ]
  },
  {
   "cell_type": "code",
   "execution_count": null,
   "id": "e8338d0c",
   "metadata": {},
   "outputs": [],
   "source": [
    "housing['BsmtCond'].value_counts()"
   ]
  },
  {
   "cell_type": "code",
   "execution_count": null,
   "id": "07356c27",
   "metadata": {},
   "outputs": [],
   "source": [
    "#Replacing NaN values to NA which indicates that the property doesnt have a garage.\n",
    "housing['BsmtCond'] = housing['BsmtCond'].replace(np.nan, 'NA')"
   ]
  },
  {
   "cell_type": "code",
   "execution_count": null,
   "id": "fedb79a1",
   "metadata": {},
   "outputs": [],
   "source": [
    "housing['BsmtQual'].value_counts()"
   ]
  },
  {
   "cell_type": "code",
   "execution_count": null,
   "id": "b3a2b03c",
   "metadata": {},
   "outputs": [],
   "source": [
    "#Replacing NaN values to NA which indicates that the property doesnt have a garage.\n",
    "housing['BsmtQual'] = housing['BsmtQual'].replace(np.nan, 'NA')"
   ]
  },
  {
   "cell_type": "code",
   "execution_count": null,
   "id": "56def3ec",
   "metadata": {},
   "outputs": [],
   "source": [
    " #To understand if thre are any outliers in the column\n",
    "sns.boxplot('MasVnrArea', data = housing)"
   ]
  },
  {
   "cell_type": "code",
   "execution_count": null,
   "id": "71ef2142",
   "metadata": {},
   "outputs": [],
   "source": [
    "housing['MasVnrArea'] = housing['MasVnrArea'].fillna(housing['MasVnrArea'].median())"
   ]
  },
  {
   "cell_type": "code",
   "execution_count": null,
   "id": "d8f054c0",
   "metadata": {},
   "outputs": [],
   "source": [
    "housing['MasVnrArea'].isnull().sum()"
   ]
  },
  {
   "cell_type": "code",
   "execution_count": null,
   "id": "82c2e7ec",
   "metadata": {},
   "outputs": [],
   "source": [
    "housing['MasVnrType'].value_counts()"
   ]
  },
  {
   "cell_type": "code",
   "execution_count": null,
   "id": "8ede06b5",
   "metadata": {},
   "outputs": [],
   "source": [
    "housing['MasVnrType'].mode()"
   ]
  },
  {
   "cell_type": "code",
   "execution_count": null,
   "id": "8a071dc6",
   "metadata": {},
   "outputs": [],
   "source": [
    "#Replacing it with the mode i.e. the None\n",
    "housing['MasVnrType'] = housing['MasVnrType'].replace(np.nan, 'None')"
   ]
  },
  {
   "cell_type": "code",
   "execution_count": null,
   "id": "586cd80c",
   "metadata": {},
   "outputs": [],
   "source": [
    "housing['MasVnrType'].isnull().sum()"
   ]
  },
  {
   "cell_type": "code",
   "execution_count": null,
   "id": "70898794",
   "metadata": {},
   "outputs": [],
   "source": [
    "housing['Electrical'].value_counts()"
   ]
  },
  {
   "cell_type": "code",
   "execution_count": null,
   "id": "81497fc6",
   "metadata": {},
   "outputs": [],
   "source": [
    "#Replacing it with the mode i.e. the SBrkr\n",
    "housing['Electrical'] = housing['Electrical'].replace(np.nan, 'SBrkr')"
   ]
  },
  {
   "cell_type": "code",
   "execution_count": null,
   "id": "c4ba0333",
   "metadata": {},
   "outputs": [],
   "source": [
    "# Checking the percentage of null values in the dataframe 'housing' column-wise\n",
    "round(100*(housing.isnull().sum()/len(housing.index)), 2).sort_values(ascending=False)"
   ]
  },
  {
   "cell_type": "code",
   "execution_count": null,
   "id": "fc8cc8e0",
   "metadata": {},
   "outputs": [],
   "source": [
    "#To see if the 'SalePrice' column is normally distributed to apply regression on it\n",
    "sns.distplot(housing['SalePrice'])"
   ]
  },
  {
   "cell_type": "code",
   "execution_count": null,
   "id": "e6673534",
   "metadata": {},
   "outputs": [],
   "source": [
    "housing.columns"
   ]
  },
  {
   "cell_type": "code",
   "execution_count": null,
   "id": "e4f1eb10",
   "metadata": {},
   "outputs": [],
   "source": [
    "#Applying the log transformation technique on the SalePrice column to convert into a normal distributed data\n",
    "housing['log_value'] = np.log(housing['SalePrice'])"
   ]
  },
  {
   "cell_type": "code",
   "execution_count": null,
   "id": "251be394",
   "metadata": {},
   "outputs": [],
   "source": [
    "sns.distplot(housing['log_value'])"
   ]
  },
  {
   "cell_type": "code",
   "execution_count": null,
   "id": "5674d8a9",
   "metadata": {},
   "outputs": [],
   "source": [
    "#converting the MSSubClass into a object class as the current column is being identified as int where in actual its being an categorical\n",
    "housing['MSSubClass'] = housing['MSSubClass'].astype(object)"
   ]
  },
  {
   "cell_type": "code",
   "execution_count": null,
   "id": "5e3f9869",
   "metadata": {},
   "outputs": [],
   "source": [
    "housing.info()"
   ]
  },
  {
   "cell_type": "code",
   "execution_count": null,
   "id": "0d9aaa34",
   "metadata": {},
   "outputs": [],
   "source": [
    "housing.head()"
   ]
  },
  {
   "cell_type": "code",
   "execution_count": null,
   "id": "1dc878cc",
   "metadata": {},
   "outputs": [],
   "source": [
    "housing_orig.columns"
   ]
  },
  {
   "cell_type": "code",
   "execution_count": null,
   "id": "387630cc",
   "metadata": {},
   "outputs": [],
   "source": [
    "#Dropping the columns\n",
    "housing.drop(['Heating','SaleCondition', 'CentralAir', 'LowQualFinSF', 'KitchenAbvGr', 'Functional', 'SaleType', 'MoSold', 'MiscVal', 'PoolArea','Scree"
   ]
  },
  {
   "cell_type": "code",
   "execution_count": null,
   "id": "1e5fb602",
   "metadata": {},
   "outputs": [],
   "source": [
    "housing.columns"
   ]
  },
  {
   "cell_type": "code",
   "execution_count": null,
   "id": "0596340f",
   "metadata": {},
   "outputs": [],
   "source": [
    "# all numeric (float and int) variables in the dataset\n",
    "housing_numeric = housing.select_dtypes(include=['float64', 'int64'])\n",
    "housing_numeric.head()"
   ]
  },
  {
   "cell_type": "code",
   "execution_count": null,
   "id": "fe4b581a",
   "metadata": {},
   "outputs": [],
   "source": [
    "housing['BsmtFullBath'].value_counts()"
   ]
  },
  {
   "cell_type": "code",
   "execution_count": null,
   "id": "321cb704",
   "metadata": {},
   "outputs": [],
   "source": [
    "housing['BsmtHalfBath'].value_counts()"
   ]
  },
  {
   "cell_type": "code",
   "execution_count": null,
   "id": "e67b2789",
   "metadata": {},
   "outputs": [],
   "source": [
    "# correlation matrix\n",
    "cor = housing_numeric.corr()\n",
    "\n",
    "# plotting correlations on a heatmap\n",
    "\n",
    "# figure size\n",
    "plt.figure(figsize=(16,8))\n",
    "\n",
    "# heatmap\n",
    "sns.heatmap(cor, cmap=\"YlGnBu\", annot=True)\n",
    "plt.show()"
   ]
  },
  {
   "cell_type": "code",
   "execution_count": null,
   "id": "7667240d",
   "metadata": {},
   "outputs": [],
   "source": [
    "cor*100"
   ]
  },
  {
   "cell_type": "code",
   "execution_count": null,
   "id": "4a709d31",
   "metadata": {},
   "outputs": [],
   "source": [
    "housing.columns"
   ]
  },
  {
   "cell_type": "code",
   "execution_count": null,
   "id": "8c8c669c",
   "metadata": {},
   "outputs": [],
   "source": [
    "# split into X and y\n",
    "X = housing.loc[:, ['MSSubClass', 'MSZoning', 'LotFrontage', 'LotArea', 'Street',\n",
    "       'LotShape', 'LandContour', 'LotConfig', 'LandSlope', 'Neighborhood',\n",
    "       'Condition1', 'HouseStyle', 'OverallQual', 'OverallCond', 'YearBuilt',\n",
    "       'YearRemodAdd', 'Exterior1st', 'Exterior2nd', 'MasVnrType',\n",
    "       'MasVnrArea', 'ExterQual', 'Foundation', 'BsmtQual', 'BsmtExposure',\n",
    "       'BsmtFinType1', 'BsmtFinSF1', 'BsmtUnfSF', 'TotalBsmtSF', 'HeatingQC',\n",
    "       '1stFlrSF', '2ndFlrSF', 'GrLivArea', 'BsmtFullBath', 'BsmtHalfBath',\n",
    "       'FullBath', 'HalfBath', 'BedroomAbvGr', 'KitchenQual', 'TotRmsAbvGrd',\n",
    "       'Fireplaces', 'FireplaceQu', 'GarageType', 'GarageYrBlt',\n",
    "       'GarageFinish', 'GarageCars', 'GarageArea', 'WoodDeckSF', 'OpenPorchSF',\n",
    "       'YrSold']]\n",
    "\n",
    "y = housing['log_value']"
   ]
  },
  {
   "cell_type": "code",
   "execution_count": null,
   "id": "6472b51e",
   "metadata": {},
   "outputs": [],
   "source": [
    "# creating dummy variables for categorical variables\n",
    "\n",
    "# subset all categorical variables\n",
    "housing_categorical = X.select_dtypes(include=['object'])\n",
    "housing_categorical.head()"
   ]
  },
  {
   "cell_type": "code",
   "execution_count": null,
   "id": "842b75fe",
   "metadata": {},
   "outputs": [],
   "source": [
    "# convert into dummies\n",
    "housing_dummies = pd.get_dummies(housing_categorical, drop_first=True)\n",
    "housing_dummies.head()"
   ]
  },
  {
   "cell_type": "code",
   "execution_count": null,
   "id": "7eb90cfe",
   "metadata": {},
   "outputs": [],
   "source": [
    "# drop categorical variables \n",
    "X = X.drop(list(housing_categorical.columns), axis=1)"
   ]
  },
  {
   "cell_type": "code",
   "execution_count": null,
   "id": "471aac0f",
   "metadata": {},
   "outputs": [],
   "source": [
    "# concat dummy variables with X\n",
    "X = pd.concat([X, housing_dummies], axis=1)"
   ]
  },
  {
   "cell_type": "code",
   "execution_count": null,
   "id": "ed5ea566",
   "metadata": {},
   "outputs": [],
   "source": [
    "# scaling the features\n",
    "from sklearn.preprocessing import scale\n",
    "\n",
    "# storing column names in cols, since column names are lost after \n",
    "# scaling (the dataframe is converted to a numpy array)\n",
    "cols = X.columns\n",
    "X = pd.DataFrame(scale(X))\n",
    "X.columns = cols\n",
    "X.columns"
   ]
  },
  {
   "cell_type": "code",
   "execution_count": null,
   "id": "350063a6",
   "metadata": {},
   "outputs": [],
   "source": [
    "# split into train and test\n",
    "from sklearn.cross_validation import train_test_split\n",
    "X_train, X_test, y_train, y_test = train_test_split(X, y, \n",
    "                                                    train_size=0.7,\n",
    "                                                    test_size = 0.3, random_state=100)"
   ]
  },
  {
   "cell_type": "code",
   "execution_count": null,
   "id": "7745632f",
   "metadata": {},
   "outputs": [],
   "source": [
    "# list of alphas to tune\n",
    "params = {'alpha': [0.0001, 0.001, 0.01, 0.05, 0.1, \n",
    " 0.2, 0.3, 0.4, 0.5, 0.6, 0.7, 0.8, 0.9, 1.0, 2.0, 3.0, \n",
    " 4.0, 5.0, 6.0, 7.0, 8.0, 9.0, 10.0, 20, 50, 100, 500, 1000 ]}\n",
    "\n",
    "\n",
    "ridge = Ridge()\n",
    "\n",
    "# cross validation\n",
    "folds = 5\n",
    "model_cv = GridSearchCV(estimator = ridge, \n",
    "                        param_grid = params, \n",
    "                        scoring= 'neg_mean_absolute_error', \n",
    "                        cv = folds, \n",
    "                        return_train_score=True,\n",
    "                        verbose = 1)            \n",
    "model_cv.fit(X_train, y_train) "
   ]
  },
  {
   "cell_type": "code",
   "execution_count": null,
   "id": "15067186",
   "metadata": {},
   "outputs": [],
   "source": [
    "cv_results = pd.DataFrame(model_cv.cv_results_)\n",
    "cv_results.head()"
   ]
  },
  {
   "cell_type": "code",
   "execution_count": null,
   "id": "43725513",
   "metadata": {},
   "outputs": [],
   "source": [
    "cv_results"
   ]
  },
  {
   "cell_type": "code",
   "execution_count": null,
   "id": "95fe7275",
   "metadata": {},
   "outputs": [],
   "source": [
    "# plotting mean test and train scoes with alpha \n",
    "cv_results['param_alpha'] = cv_results['param_alpha'].astype('int32')\n",
    "\n",
    "# plotting\n",
    "plt.plot(cv_results['param_alpha'], cv_results['mean_train_score'])\n",
    "plt.plot(cv_results['param_alpha'], cv_results['mean_test_score'])\n",
    "plt.xlabel('alpha')\n",
    "plt.ylabel('Negative Mean Absolute Error')\n",
    "plt.title(\"Negative Mean Absolute Error and alpha\")\n",
    "plt.legend(['train score', 'test score'], loc='upper right')\n",
    "plt.show()"
   ]
  },
  {
   "cell_type": "code",
   "execution_count": null,
   "id": "37a9fa18",
   "metadata": {},
   "outputs": [],
   "source": [
    "print(\"\\n The best estimator across ALL searched params:\\n\",\n",
    "          model_cv.best_estimator_)\n",
    "print(\"\\n The best score across ALL searched params:\\n\",\n",
    "          model_cv.best_score_)\n",
    "print(\"\\n The best parameters across ALL searched params:\\n\",\n",
    "          model_cv.best_params_)"
   ]
  },
  {
   "cell_type": "code",
   "execution_count": null,
   "id": "8b8413f3",
   "metadata": {},
   "outputs": [],
   "source": [
    "#Using the best hyper parameter in the ridge Regression\n",
    "alpha = 100\n",
    "ridge = Ridge(alpha=alpha)\n",
    "\n",
    "ridge.fit(X_train, y_train)\n",
    "ridge.coef_"
   ]
  },
  {
   "cell_type": "code",
   "execution_count": null,
   "id": "30df99e6",
   "metadata": {},
   "outputs": [],
   "source": [
    "# predict for the training dataset\n",
    "y_train_pred = ridge.predict(X_train)\n",
    "print('The training accuracy is:')\n",
    "print(metrics.r2_score(y_true=np.exp(y_train), y_pred=np.exp(y_train_pred)))"
   ]
  },
  {
   "cell_type": "code",
   "execution_count": null,
   "id": "dfed7e84",
   "metadata": {},
   "outputs": [],
   "source": [
    "# predict for the test dataset\n",
    "y_test_pred = ridge.predict(X_test)\n",
    "print('The testing accuracy is:')\n",
    "print(metrics.r2_score(y_true=np.exp(y_test), y_pred=np.exp(y_test_pred)))"
   ]
  },
  {
   "cell_type": "code",
   "execution_count": null,
   "id": "b7922d0d",
   "metadata": {},
   "outputs": [],
   "source": [
    "# model coefficients\n",
    "cols = X.columns\n",
    "cols = cols.insert(0, \"constant\")\n",
    "model_parameters = list(ridge.coef_)\n",
    "list(zip(cols, model_parameters))"
   ]
  },
  {
   "cell_type": "code",
   "execution_count": null,
   "id": "65e27b8a",
   "metadata": {},
   "outputs": [],
   "source": [
    "# model coefficients\n",
    "cols = X.columns\n",
    "cols = cols.insert(0, \"constant\")\n",
    "model_parameters = list(ridge.coef_)\n",
    "ridge_list = list(zip(cols, model_parameters))"
   ]
  },
  {
   "cell_type": "code",
   "execution_count": null,
   "id": "294d4ef6",
   "metadata": {},
   "outputs": [],
   "source": [
    "final_pred_ridge = []\n",
    "for i in range(len(ridge_list)):\n",
    "    if(ridge_list[i][1]!=0):\n",
    "        final_pred_ridge.append(ridge_list[i][0])\n",
    "print('Number of predictors selected by optimal alpha for ridge are:{0}'.format(len(final_pred_ridge)))"
   ]
  },
  {
   "cell_type": "code",
   "execution_count": null,
   "id": "829ec5dd",
   "metadata": {},
   "outputs": [],
   "source": [
    "alpha_double = 200\n",
    "ridge_double = Ridge(alpha=alpha_double)\n",
    "\n",
    "ridge_double.fit(X_train, y_train)\n",
    "ridge_double.coef_"
   ]
  },
  {
   "cell_type": "code",
   "execution_count": null,
   "id": "b8a7c288",
   "metadata": {},
   "outputs": [],
   "source": [
    "# predict\n",
    "y_train_pred_double = ridge_double.predict(X_train)\n",
    "print(metrics.r2_score(y_true=y_train, y_pred=y_train_pred_double))"
   ]
  },
  {
   "cell_type": "code",
   "execution_count": null,
   "id": "408c2195",
   "metadata": {},
   "outputs": [],
   "source": [
    "rsquare = metrics.r2_score(y_true=y_train, y_pred=y_train_pred_double)\n",
    "rssbytss = 1-rsquare\n",
    "rssbytss"
   ]
  },
  {
   "cell_type": "code",
   "execution_count": null,
   "id": "a4c021e0",
   "metadata": {},
   "outputs": [],
   "source": [
    "y_test_pred = ridge_double.predict(X_test)\n",
    "print(metrics.r2_score(y_true=y_test, y_pred=y_test_pred))"
   ]
  },
  {
   "cell_type": "code",
   "execution_count": null,
   "id": "12c7c176",
   "metadata": {},
   "outputs": [],
   "source": [
    "# model coefficients\n",
    "cols = X.columns\n",
    "cols = cols.insert(0, \"constant\")\n",
    "model_parameters = list(ridge_double.coef_)\n",
    "ridge_doble_list = list(zip(cols, model_parameters))"
   ]
  },
  {
   "cell_type": "code",
   "execution_count": null,
   "id": "a6cb239d",
   "metadata": {},
   "outputs": [],
   "source": [
    "ridge_doble_list"
   ]
  },
  {
   "cell_type": "code",
   "execution_count": null,
   "id": "bf1e1769",
   "metadata": {},
   "outputs": [],
   "source": [
    "final_pred_ridge_double =[]\n",
    "for i in range(len(ridge_doble_list)):\n",
    "    if(ridge_doble_list[i][1]!=0):\n",
    "        final_pred_ridge_double.append(ridge_doble_list[i][0])\n",
    "print('Number of predictors selected by double the optimal alpha for ridge are:{0}'.format(len(final_pred_ridge_double)))"
   ]
  },
  {
   "cell_type": "code",
   "execution_count": null,
   "id": "26ef3485",
   "metadata": {},
   "outputs": [],
   "source": [
    "# list of alphas to tune\n",
    "params = {'alpha': [0.0000001, 0.000001, 0.00001, 0.0001, 0.001, 0.01]}\n",
    "\n",
    "\n",
    "lasso = Lasso()\n",
    "\n",
    "# cross validation\n",
    "model_lasso_cv = GridSearchCV(estimator = lasso, \n",
    "                        param_grid = params, \n",
    "                        scoring= 'neg_mean_absolute_error', \n",
    "                        cv = folds, \n",
    "                        return_train_score=True,\n",
    "                        verbose = 1)            \n",
    "\n",
    "model_lasso_cv.fit(X_train, y_train) "
   ]
  },
  {
   "cell_type": "code",
   "execution_count": null,
   "id": "244d7da6",
   "metadata": {},
   "outputs": [],
   "source": [
    "cv_results_lasso = pd.DataFrame(model_cv.cv_results_)\n",
    "cv_results_lasso.head()"
   ]
  },
  {
   "cell_type": "code",
   "execution_count": null,
   "id": "cf50843c",
   "metadata": {},
   "outputs": [],
   "source": [
    "# plotting mean test and train scoes with alpha \n",
    "cv_results_lasso['param_alpha'] = cv_results_lasso['param_alpha'].astype('float32')\n",
    "\n",
    "# plotting\n",
    "plt.plot(cv_results_lasso['param_alpha'], cv_results_lasso['mean_train_score'])\n",
    "plt.plot(cv_results_lasso['param_alpha'], cv_results_lasso['mean_test_score'])\n",
    "plt.xlabel('alpha')\n",
    "plt.ylabel('Negative Mean Absolute Error')\n",
    "\n",
    "plt.title(\"Negative Mean Absolute Error and alpha\")\n",
    "plt.legend(['train score', 'test score'], loc='upper right')\n",
    "plt.show()"
   ]
  },
  {
   "cell_type": "code",
   "execution_count": null,
   "id": "92b5f5f4",
   "metadata": {},
   "outputs": [],
   "source": [
    "print(\"\\n The best estimator across ALL searched params:\\n\",\n",
    "          model_lasso_cv.best_estimator_)\n",
    "print(\"\\n The best score across ALL searched params:\\n\",\n",
    "          model_lasso_cv.best_score_)\n",
    "print(\"\\n The best parameters across ALL searched params:\\n\",\n",
    "          model_lasso_cv.best_params_)"
   ]
  },
  {
   "cell_type": "code",
   "execution_count": null,
   "id": "c8a28b1a",
   "metadata": {},
   "outputs": [],
   "source": [
    "alpha_lasso =0.001\n",
    "\n",
    "lasso = Lasso(alpha=alpha_lasso)\n",
    "        \n",
    "lasso.fit(X_train, y_train) "
   ]
  },
  {
   "cell_type": "code",
   "execution_count": null,
   "id": "b3accead",
   "metadata": {},
   "outputs": [],
   "source": [
    "lasso.coef_"
   ]
  },
  {
   "cell_type": "code",
   "execution_count": null,
   "id": "ea73a50c",
   "metadata": {},
   "outputs": [],
   "source": [
    "model_parameters = list(lasso.coef_)\n",
    "# model coefficients\n",
    "cols = X.columns\n",
    "cols = cols.insert(0, \"constant\")\n",
    "model_parameters = list(lasso.coef_)\n",
    "lasso_list = list(zip(cols, model_parameters))"
   ]
  },
  {
   "cell_type": "code",
   "execution_count": null,
   "id": "e19fb58a",
   "metadata": {},
   "outputs": [],
   "source": [
    "lasso_list"
   ]
  },
  {
   "cell_type": "code",
   "execution_count": null,
   "id": "414c158e",
   "metadata": {},
   "outputs": [],
   "source": [
    "#List of all predictors with non zero co-efficients\n",
    "for i in range(len(a)):\n",
    "    if(lasso_list[i][1]!=0):\n",
    "        print(lasso_list[i][0])"
   ]
  },
  {
   "cell_type": "code",
   "execution_count": null,
   "id": "72a0c2ed",
   "metadata": {},
   "outputs": [],
   "source": [
    "lm = Lasso(alpha=0.001)\n",
    "lm.fit(X_train, y_train)\n",
    "\n",
    "# predict\n",
    "y_train_pred = lm.predict(X_train)\n",
    "print('The training accuracy is:')\n",
    "print(metrics.r2_score(y_true=y_train, y_pred=y_train_pred))\n",
    "y_test_pred = lm.predict(X_test)\n",
    "print('The test accuracy is:')\n",
    "print(metrics.r2_score(y_true=y_test, y_pred=y_test_pred))"
   ]
  },
  {
   "cell_type": "code",
   "execution_count": null,
   "id": "f507e725",
   "metadata": {},
   "outputs": [],
   "source": [
    "final_pred_lasso =[]\n",
    "for i in range(len(lasso_list)):\n",
    "    if(lasso_list[i][1]!=0):\n",
    "        final_pred_lasso.append(lasso_list[i][0])\n",
    "print('Number of predictors selected by optimaloptimal alpha for ridge are:{0}'.format(len(final_pred_lasso)))"
   ]
  },
  {
   "cell_type": "code",
   "execution_count": null,
   "id": "baf5881d",
   "metadata": {},
   "outputs": [],
   "source": [
    "lm_double = Lasso(alpha=0.002)\n",
    "lm_double.fit(X_train, y_train)\n",
    "\n",
    "# predict\n",
    "y_train_pred_double = lm_double.predict(X_train)\n",
    "print('The training accuracy is:')\n",
    "print(metrics.r2_score(y_true=y_train, y_pred=y_train_pred_double))\n",
    "y_test_pred_double = lm.predict(X_test)\n",
    "print('The test accuracy is:')\n",
    "print(metrics.r2_score(y_true=y_test, y_pred=y_test_pred_double))"
   ]
  },
  {
   "cell_type": "code",
   "execution_count": null,
   "id": "e3591676",
   "metadata": {},
   "outputs": [],
   "source": [
    "model_parameters = list(lm_double.coef_)\n",
    "# model coefficients\n",
    "cols = X.columns\n",
    "cols = cols.insert(0, \"constant\")\n",
    "model_parameters = list(lm_double.coef_)\n",
    "a = list(zip(cols, model_parameters))\n",
    "#List of all predictors with non zero co-efficients\n",
    "\n",
    "final_pred =[]\n",
    "for i in range(len(a)):\n",
    "    if(a[i][1]!=0):\n",
    "        final_pred.append(a[i][0])\n",
    "print('Number of predictors selected by double the optimal alpha for lasso are:{0}'.format(len(final_pred)))"
   ]
  },
  {
   "cell_type": "code",
   "execution_count": null,
   "id": "f5ff64a4",
   "metadata": {},
   "outputs": [],
   "source": [
    "a"
   ]
  },
  {
   "cell_type": "code",
   "execution_count": null,
   "id": "9b5be2b5",
   "metadata": {},
   "outputs": [],
   "source": [
    "d = len(final_pred)"
   ]
  },
  {
   "cell_type": "code",
   "execution_count": null,
   "id": "73c2429d",
   "metadata": {},
   "outputs": [],
   "source": [
    "d"
   ]
  },
  {
   "cell_type": "code",
   "execution_count": null,
   "id": "68c1c53b",
   "metadata": {},
   "outputs": [],
   "source": [
    "n = len(X)"
   ]
  },
  {
   "cell_type": "code",
   "execution_count": null,
   "id": "14210961",
   "metadata": {},
   "outputs": [],
   "source": [
    "X_train_new = X_train.drop(['2ndFlrSF', 'MSZoning_RH', 'LotArea', 'MSZoning_RL', 'MSSubClass_190'], axis=1)"
   ]
  },
  {
   "cell_type": "code",
   "execution_count": null,
   "id": "10676b94",
   "metadata": {},
   "outputs": [],
   "source": [
    "X_test_new = X_test.drop(['2ndFlrSF', 'MSZoning_RH', 'LotArea', 'MSZoning_RL', 'MSSubClass_190'], axis=1)"
   ]
  },
  {
   "cell_type": "code",
   "execution_count": null,
   "id": "1bbd0edc",
   "metadata": {},
   "outputs": [],
   "source": [
    "X_train_new.columns"
   ]
  },
  {
   "cell_type": "code",
   "execution_count": null,
   "id": "ec24f90c",
   "metadata": {},
   "outputs": [],
   "source": [
    "model_lasso_cv.fit(X_train_new, y_train)"
   ]
  },
  {
   "cell_type": "code",
   "execution_count": null,
   "id": "13deb4c8",
   "metadata": {},
   "outputs": [],
   "source": [
    "cv_results_lasso = pd.DataFrame(model_lasso_cv.cv_results_)"
   ]
  },
  {
   "cell_type": "code",
   "execution_count": null,
   "id": "53f1316f",
   "metadata": {},
   "outputs": [],
   "source": [
    "# plotting mean test and train scoes with alpha \n",
    "cv_results_lasso['param_alpha'] = cv_results_lasso['param_alpha'].astype('float32')\n",
    "\n",
    "# plotting\n",
    "plt.plot(cv_results_lasso['param_alpha'], cv_results_lasso['mean_train_score'])\n",
    "plt.plot(cv_results_lasso['param_alpha'], cv_results_lasso['mean_test_score'])\n",
    "plt.xlabel('alpha')\n",
    "plt.ylabel('Negative Mean Absolute Error')\n",
    "\n",
    "plt.title(\"Negative Mean Absolute Error and alpha\")\n",
    "plt.legend(['train score', 'test score'], loc='upper right')\n",
    "plt.show()"
   ]
  },
  {
   "cell_type": "code",
   "execution_count": null,
   "id": "456a8fbd",
   "metadata": {},
   "outputs": [],
   "source": [
    "print(\"\\n The best estimator across ALL searched params:\\n\",\n",
    "          model_lasso_cv.best_estimator_)\n",
    "print(\"\\n The best score across ALL searched params:\\n\",\n",
    "          model_lasso_cv.best_score_)\n",
    "print(\"\\n The best parameters across ALL searched params:\\n\",\n",
    "          model_lasso_cv.best_params_)"
   ]
  },
  {
   "cell_type": "code",
   "execution_count": null,
   "id": "750133a7",
   "metadata": {},
   "outputs": [],
   "source": [
    "alpha_lasso =0.001\n",
    "\n",
    "lasso = Lasso(alpha=alpha_lasso)\n",
    "        \n",
    "lasso.fit(X_train_new, y_train) "
   ]
  },
  {
   "cell_type": "code",
   "execution_count": null,
   "id": "a6cc8b48",
   "metadata": {},
   "outputs": [],
   "source": [
    "model_parameters = list(lasso.coef_)\n",
    "# model coefficients\n",
    "cols = X.columns\n",
    "cols = cols.insert(0, \"constant\")\n",
    "model_parameters = list(lasso.coef_)\n",
    "lasso_list = list(zip(cols, model_parameters))"
   ]
  },
  {
   "cell_type": "code",
   "execution_count": null,
   "id": "d7cf68c2",
   "metadata": {},
   "outputs": [],
   "source": [
    "lm = Lasso(alpha=0.001)\n",
    "lm.fit(X_train_new, y_train)\n",
    "\n",
    "# predict\n",
    "y_train_pred = lm.predict(X_train_new)\n",
    "print('The training accuracy is:')\n",
    "print(metrics.r2_score(y_true=y_train, y_pred=y_train_pred))\n",
    "y_test_pred = lm.predict(X_test_new)\n",
    "print('The test accuracy is:')\n",
    "print(metrics.r2_score(y_true=y_test, y_pred=y_test_pred))"
   ]
  },
  {
   "cell_type": "code",
   "execution_count": null,
   "id": "fe1c0150",
   "metadata": {},
   "outputs": [],
   "source": [
    "lasso_list"
   ]
  },
  {
   "cell_type": "code",
   "execution_count": null,
   "id": "12f6c1ed",
   "metadata": {},
   "outputs": [],
   "source": [
    "final_lasso_new_pred =[]\n",
    "for i in range(len(lasso_list)):\n",
    "    if(lasso_list[i][1]!=0):\n",
    "        final_lasso_new_pred.append(lasso_list[i][0])\n",
    "print('Number of predictors selected by double the optimal alpha for lasso are:{0}'.format(len(final_lasso_new_pred)))"
   ]
  }
 ],
 "metadata": {
  "kernelspec": {
   "display_name": "Python 3",
   "language": "python",
   "name": "python3"
  },
  "language_info": {
   "codemirror_mode": {
    "name": "ipython",
    "version": 3
   },
   "file_extension": ".py",
   "mimetype": "text/x-python",
   "name": "python",
   "nbconvert_exporter": "python",
   "pygments_lexer": "ipython3",
   "version": "3.8.8"
  }
 },
 "nbformat": 4,
 "nbformat_minor": 5
}
